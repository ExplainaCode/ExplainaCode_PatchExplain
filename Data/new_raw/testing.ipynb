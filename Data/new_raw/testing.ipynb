{
 "cells": [
  {
   "cell_type": "code",
   "execution_count": null,
   "metadata": {},
   "outputs": [
    {
     "name": "stdout",
     "output_type": "stream",
     "text": [
      "Loading data...\n"
     ]
    }
   ],
   "source": [
    "import pandas as pd\n",
    "from difflib import SequenceMatcher\n",
    "\n",
    "\n",
    "\n",
    "# Load the .pkl file (make sure it's in the same directory or provide a full path)\n",
    "print(\"Loading data...\")\n",
    "data = pd.read_pickle('data1.pkl')\n",
    "print(\"Loading Completed\")\n",
    "\n",
    "\n",
    "print(data)\n",
    "# Check if the data is a list; if so, convert it to a DataFrame\n",
    "if isinstance(data, list):\n",
    "    # Convert to DataFrame\n",
    "    data = pd.DataFrame(data)\n",
    "    print(\"Data was a list. Converted to DataFrame.\")\n",
    "else:\n",
    "    print(\"Data is already in DataFrame format.\")\n",
    "\n",
    "# Check the contents (optional)\n",
    "print(data.head())  # Will now work if data is a DataFrame\n",
    "\n",
    "\n"
   ]
  }
 ],
 "metadata": {
  "kernelspec": {
   "display_name": "new_venv",
   "language": "python",
   "name": "python3"
  },
  "language_info": {
   "codemirror_mode": {
    "name": "ipython",
    "version": 3
   },
   "file_extension": ".py",
   "mimetype": "text/x-python",
   "name": "python",
   "nbconvert_exporter": "python",
   "pygments_lexer": "ipython3",
   "version": "3.12.4"
  }
 },
 "nbformat": 4,
 "nbformat_minor": 2
}
