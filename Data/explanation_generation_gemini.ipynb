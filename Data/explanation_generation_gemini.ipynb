{
 "cells": [
  {
   "cell_type": "code",
   "execution_count": 6,
   "metadata": {},
   "outputs": [
    {
     "name": "stdout",
     "output_type": "stream",
     "text": [
      "Explanations have been generated and saved successfully.\n"
     ]
    }
   ],
   "source": [
    "import os\n",
    "import pandas as pd\n",
    "import google.generativeai as genai\n",
    "\n",
    "# Configure the Gemini API key\n",
    "genai.configure(api_key=os.environ[\"GEMINI_API_KEY\"])\n",
    "\n",
    "# Define the model configuration\n",
    "generation_config = {\n",
    "  \"temperature\": 0.5,\n",
    "  \"top_p\": 0.95,\n",
    "  \"top_k\": 64,\n",
    "  \"max_output_tokens\": 20,  # Adjust as needed to fit your requirements\n",
    "  \"response_mime_type\": \"text/plain\",\n",
    "}\n",
    "\n",
    "# Create the model\n",
    "model = genai.GenerativeModel(\n",
    "  model_name=\"gemini-1.5-flash\",  # Replace with the correct model name as needed\n",
    "  generation_config=generation_config,\n",
    "  # safety_settings: you can adjust this as needed\n",
    ")\n",
    "\n",
    "def get_explanation(buggy_code, fixed_code):\n",
    "    \"\"\"\n",
    "    Function to get a brief, natural language explanation of why the fixed code is correct compared to the buggy code.\n",
    "    \"\"\"\n",
    "    prompt = f\"\"\"Explain in simple, clear language why the fixed code is correct and how it resolves the issue present in the buggy code. \n",
    "    Keep the explanation short, around 20 words.\n",
    "\n",
    "    Buggy code:\n",
    "    {buggy_code}\n",
    "\n",
    "    Fixed code:\n",
    "    {fixed_code}\n",
    "\n",
    "    Why the fixed code is correct:\"\"\"\n",
    "\n",
    "    # Start a chat session\n",
    "    chat_session = model.start_chat(history=[])\n",
    "\n",
    "    # Send the message (prompt) to the chat session\n",
    "    response = chat_session.send_message(prompt)\n",
    "\n",
    "    # Extract the text from the response\n",
    "    explanation = response.text.strip()\n",
    "\n",
    "    return explanation\n",
    "\n",
    "# Load your dataframe\n",
    "df = pd.read_csv('source_data/bug_fix_sample.csv')  # Replace with the actual path to your dataframe\n",
    "\n",
    "# Apply the get_explanation function to each row and create a new column 'explanation'\n",
    "df['explanation'] = df.apply(lambda row: get_explanation(row['buggy_code'], row['fixed_code']), axis=1)\n",
    "\n",
    "# Save the dataframe with the new 'explanation' column\n",
    "df.to_csv('output_data/bug_fix_explain_sample_output_gemini_new.csv', index=False)\n",
    "\n",
    "print(\"Explanations have been generated and saved successfully.\")\n"
   ]
  }
 ],
 "metadata": {
  "kernelspec": {
   "display_name": "Python 3",
   "language": "python",
   "name": "python3"
  },
  "language_info": {
   "codemirror_mode": {
    "name": "ipython",
    "version": 3
   },
   "file_extension": ".py",
   "mimetype": "text/x-python",
   "name": "python",
   "nbconvert_exporter": "python",
   "pygments_lexer": "ipython3",
   "version": "3.12.4"
  }
 },
 "nbformat": 4,
 "nbformat_minor": 2
}
