{
 "cells": [
  {
   "cell_type": "code",
   "execution_count": 2,
   "metadata": {},
   "outputs": [
    {
     "name": "stdout",
     "output_type": "stream",
     "text": [
      "Explanations have been generated and saved successfully.\n"
     ]
    }
   ],
   "source": [
    "import openai\n",
    "import pandas as pd\n",
    "import os\n",
    "OPEN_AI_API_KEY = os.getenv(\"OPEN_AI_API_KEY\")\n",
    "GEMINI_API_KEY = os.getenv(\"GEMINI_API_KEY\")\n",
    "\n",
    "\n",
    "\n",
    "# Load your dataframe\n",
    "df = pd.read_csv('source_data/bug_fix_sample.csv')  # Replace with the actual path to your dataframe\n",
    "\n",
    "# Set up your OpenAI API key\n",
    "openai.api_key = OPEN_AI_API_KEY  # Replace with your actual OpenAI API key\n",
    "\n",
    "def get_explanation(buggy_code, fixed_code):\n",
    "    \"\"\"\n",
    "    Function to get a brief, natural language explanation of why the fixed code is correct compared to the buggy code\n",
    "    using the GPT-3.5-Turbo model. The explanation will be concise and approximately 20 tokens long.\n",
    "    \"\"\"\n",
    "    prompt = f\"\"\"Explain in simple, clear language why the fixed code is correct and how it resolves the issue present in the buggy code. \n",
    "    Keep the explanation short, around 20 words.\n",
    "\n",
    "    Buggy code:\n",
    "    {buggy_code}\n",
    "\n",
    "    Fixed code:\n",
    "    {fixed_code}\n",
    "\n",
    "    Why the fixed code is correct:\"\"\"\n",
    "\n",
    "    response = openai.ChatCompletion.create(\n",
    "        model=\"gpt-3.5-turbo\",\n",
    "        messages=[\n",
    "            {\"role\": \"system\", \"content\": \"You are a helpful assistant that provides clear, brief explanations of why the fixed code is correct.\"},\n",
    "            {\"role\": \"user\", \"content\": prompt}\n",
    "        ],\n",
    "        max_tokens=20,  # Limit the output to around 20 tokens\n",
    "        temperature=0.5\n",
    "    )\n",
    "    explanation = response['choices'][0]['message']['content'].strip()\n",
    "    return explanation\n",
    "\n",
    "# Apply the get_explanation function to each row and create a new column 'explanation'\n",
    "df['explanation'] = df.apply(lambda row: get_explanation(row['buggy_code'], row['fixed_code']), axis=1)\n",
    "\n",
    "# Save the dataframe with the new 'explanation' column\n",
    "df.to_csv('output_data/bug_fix_explain_sample_output_gpt.csv', index=False)\n",
    "\n",
    "print(\"Explanations have been generated and saved successfully.\")"
   ]
  }
 ],
 "metadata": {
  "kernelspec": {
   "display_name": "venv",
   "language": "python",
   "name": "python3"
  },
  "language_info": {
   "codemirror_mode": {
    "name": "ipython",
    "version": 3
   },
   "file_extension": ".py",
   "mimetype": "text/x-python",
   "name": "python",
   "nbconvert_exporter": "python",
   "pygments_lexer": "ipython3",
   "version": "3.12.4"
  }
 },
 "nbformat": 4,
 "nbformat_minor": 2
}
