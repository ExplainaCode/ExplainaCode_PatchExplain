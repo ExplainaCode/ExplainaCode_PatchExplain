{
 "cells": [
  {
   "cell_type": "code",
   "execution_count": null,
   "metadata": {},
   "outputs": [
    {
     "name": "stdout",
     "output_type": "stream",
     "text": [
      "Loading data...\n"
     ]
    }
   ],
   "source": [
    "import pandas as pd\n",
    "from difflib import SequenceMatcher\n",
    "\n",
    "# Function to calculate similarity score\n",
    "def calculate_similarity(buggy_code, fixed_code):\n",
    "    return SequenceMatcher(None, buggy_code, fixed_code).ratio()\n",
    "\n",
    "# Load the .pkl file (make sure it's in the same directory or provide a full path)\n",
    "print(\"Loading data...\")\n",
    "data = pd.read_pickle('../Data/raw_files/data1.pkl')\n",
    "print(\"Loading Completed\")\n",
    "\n",
    "\n",
    "print(data)\n",
    "# Check if the data is a list; if so, convert it to a DataFrame\n",
    "if isinstance(data, list):\n",
    "    # Convert to DataFrame\n",
    "    data = pd.DataFrame(data)\n",
    "    print(\"Data was a list. Converted to DataFrame.\")\n",
    "else:\n",
    "    print(\"Data is already in DataFrame format.\")\n",
    "\n",
    "# Check the contents (optional)\n",
    "print(data.head())  # Will now work if data is a DataFrame\n",
    "\n",
    "# # Rename columns\n",
    "# data = data.rename(columns={'old': 'buggy_code', 'new': 'fixed_code'})\n",
    "\n",
    "# # Select only the columns 'buggy_code' and 'fixed_code'\n",
    "# data = data[['buggy_code', 'fixed_code']]\n",
    "\n",
    "# # Add a new column 'record_number' with sequential numbers starting from 1\n",
    "# data.insert(0, 'record_number', range(1, len(data) + 1))\n",
    "\n",
    "# # Calculate code similarity and add it as a new column\n",
    "# data['code_similarity'] = data.apply(lambda row: calculate_similarity(row['buggy_code'], row['fixed_code']), axis=1)\n",
    "\n",
    "# # Reorder columns to have 'record_number' as the first column\n",
    "# data = data[['record_number', 'buggy_code', 'fixed_code', 'code_similarity']]\n",
    "\n",
    "# # Print the record count\n",
    "# record_count = data.shape[0]\n",
    "# print(\"Record count: before \", record_count)\n",
    "\n",
    "# # Remove rows where at least one of 'buggy_code' or 'fixed_code' is empty\n",
    "# data = data[(data['buggy_code'].notna()) & (data['fixed_code'].notna())]\n",
    "\n",
    "\n",
    "# # Print the record count\n",
    "# record_count = data.shape[0]\n",
    "# print(\"Record count: after \", record_count)\n",
    "\n",
    "\n",
    "# # Save to a CSV file\n",
    "# data.to_csv('../Data/pre_processed_files/data0.csv', index=False)\n"
   ]
  }
 ],
 "metadata": {
  "kernelspec": {
   "display_name": "new_venv",
   "language": "python",
   "name": "python3"
  },
  "language_info": {
   "codemirror_mode": {
    "name": "ipython",
    "version": 3
   },
   "file_extension": ".py",
   "mimetype": "text/x-python",
   "name": "python",
   "nbconvert_exporter": "python",
   "pygments_lexer": "ipython3",
   "version": "3.12.4"
  }
 },
 "nbformat": 4,
 "nbformat_minor": 2
}
