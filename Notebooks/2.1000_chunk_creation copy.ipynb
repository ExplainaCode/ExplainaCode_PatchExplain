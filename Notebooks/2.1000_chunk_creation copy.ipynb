{
 "cells": [
  {
   "cell_type": "code",
   "execution_count": 1,
   "metadata": {},
   "outputs": [
    {
     "name": "stdout",
     "output_type": "stream",
     "text": [
      "Split complete! 98 files have been created in ../Data/new_1000_record_chunks/.\n"
     ]
    }
   ],
   "source": [
    "import pandas as pd\n",
    "import os\n",
    "\n",
    "# Load the original CSV file\n",
    "data = pd.read_csv('../Data/new_source_data/bug_fix_dataset.csv')\n",
    "\n",
    "# Define the number of records per file\n",
    "records_per_file = 1000\n",
    "\n",
    "# Calculate the total number of smaller files needed\n",
    "num_files = (len(data) // records_per_file) + 1\n",
    "\n",
    "# Create an output directory if it doesn’t exist\n",
    "output_dir = '../Data/new_1000_record_chunks/'\n",
    "os.makedirs(output_dir, exist_ok=True)\n",
    "\n",
    "# Loop over each chunk and save it as a new file\n",
    "for i in range(num_files):\n",
    "    # Get the start and end index for the current chunk\n",
    "    start_index = i * records_per_file\n",
    "    end_index = start_index + records_per_file\n",
    "    chunk = data[start_index:end_index]\n",
    "    \n",
    "    # Save the chunk to a new CSV file\n",
    "    chunk.to_csv(f'{output_dir}1000_chunk_{i + 1}.csv', index=False)\n",
    "\n",
    "print(f\"Split complete! {num_files} files have been created in {output_dir}.\")\n"
   ]
  },
  {
   "cell_type": "code",
   "execution_count": null,
   "metadata": {},
   "outputs": [],
   "source": []
  }
 ],
 "metadata": {
  "kernelspec": {
   "display_name": "new_venv",
   "language": "python",
   "name": "python3"
  },
  "language_info": {
   "codemirror_mode": {
    "name": "ipython",
    "version": 3
   },
   "file_extension": ".py",
   "mimetype": "text/x-python",
   "name": "python",
   "nbconvert_exporter": "python",
   "pygments_lexer": "ipython3",
   "version": "3.12.4"
  }
 },
 "nbformat": 4,
 "nbformat_minor": 2
}
